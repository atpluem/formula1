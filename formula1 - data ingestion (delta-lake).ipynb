{
 "cells": [
  {
   "cell_type": "code",
   "execution_count": null,
   "metadata": {
    "application/vnd.databricks.v1+cell": {
     "cellMetadata": {
      "byteLimit": 2048000,
      "rowLimit": 10000
     },
     "inputWidgets": {},
     "nuid": "7cad9727-42a8-417c-877e-2b57b44a4974",
     "showTitle": false,
     "title": ""
    }
   },
   "outputs": [],
   "source": [
    "from pyspark.sql.types import StructType, StructField\n",
    "from pyspark.sql.types import IntegerType, StringType, FloatType, DoubleType, DateType\n",
    "from pyspark.sql.functions import current_timestamp, to_timestamp, col, concat, lit\n",
    "\n",
    "from delta.tables import DeltaTable"
   ]
  },
  {
   "cell_type": "code",
   "execution_count": null,
   "metadata": {
    "application/vnd.databricks.v1+cell": {
     "cellMetadata": {},
     "inputWidgets": {},
     "nuid": "c2204222-69d5-48ae-9ed1-4750323b3ad6",
     "showTitle": false,
     "title": ""
    }
   },
   "outputs": [],
   "source": [
    "dbutils.widgets.text(\"p_data_source\", \"s3://<bucket>/raw\")\n",
    "v_data_source = dbutils.widgets.get(\"p_data_source\")\n",
    "\n",
    "dbutils.widgets.text(\"p_file_date\", \"2021-03-28\")\n",
    "v_file_date = dbutils.widgets.get(\"p_file_date\")"
   ]
  },
  {
   "cell_type": "code",
   "execution_count": null,
   "metadata": {
    "application/vnd.databricks.v1+cell": {
     "cellMetadata": {},
     "inputWidgets": {},
     "nuid": "0044ea93-7ba7-469a-af5a-adc9d31ce62e",
     "showTitle": false,
     "title": ""
    }
   },
   "outputs": [],
   "source": [
    "%run \"includes/configuration\"\n",
    "%run \"includes/utils\""
   ]
  },
  {
   "cell_type": "code",
   "execution_count": null,
   "metadata": {
    "application/vnd.databricks.v1+cell": {
     "cellMetadata": {},
     "inputWidgets": {},
     "nuid": "34e294cf-fbca-44a2-aeb4-628c962c9280",
     "showTitle": false,
     "title": ""
    }
   },
   "outputs": [],
   "source": [
    "%sql\n",
    "CREATE DATABASE IF NOT EXISTS f1_processed;\n",
    "LOCATION \"s3://<bucket>/processed\""
   ]
  },
  {
   "cell_type": "markdown",
   "metadata": {
    "application/vnd.databricks.v1+cell": {
     "cellMetadata": {},
     "inputWidgets": {},
     "nuid": "a422b01f-7d2e-459a-8f84-1cacf4c2ee25",
     "showTitle": false,
     "title": ""
    }
   },
   "source": [
    "### 1. ingest circuit file - CSV"
   ]
  },
  {
   "cell_type": "code",
   "execution_count": null,
   "metadata": {
    "application/vnd.databricks.v1+cell": {
     "cellMetadata": {
      "byteLimit": 2048000,
      "rowLimit": 10000
     },
     "inputWidgets": {},
     "nuid": "b7f4de29-5ad1-4e40-ae2c-a054ff5a9d74",
     "showTitle": false,
     "title": ""
    }
   },
   "outputs": [],
   "source": [
    "circuit_schema = StructType([StructField(\"circuitID\", IntegerType(), False),\n",
    "                             StructField(\"circuitRef\", StringType(), True),\n",
    "                             StructField(\"name\", StringType(), True),\n",
    "                             StructField(\"location\", StringType(), True),\n",
    "                             StructField(\"country\", StringType(), True),\n",
    "                             StructField(\"lat\", DoubleType(), True),\n",
    "                             StructField(\"lng\", DoubleType(), True),\n",
    "                             StructField(\"alt\", IntegerType(), True),\n",
    "                             StructField(\"url\", StringType(), True)])"
   ]
  },
  {
   "cell_type": "code",
   "execution_count": null,
   "metadata": {
    "application/vnd.databricks.v1+cell": {
     "cellMetadata": {
      "byteLimit": 2048000,
      "rowLimit": 10000
     },
     "inputWidgets": {},
     "nuid": "1b9415f8-f9dd-472b-a25e-624b852317cb",
     "showTitle": false,
     "title": ""
    }
   },
   "outputs": [],
   "source": [
    "circuit_df = spark.read \\\n",
    "    .option(\"header\", True) \\\n",
    "    .schema(circuit_schema) \\\n",
    "    .csv(f\"{v_data_source}/{v_file_date}/circuits.csv\")"
   ]
  },
  {
   "cell_type": "code",
   "execution_count": null,
   "metadata": {
    "application/vnd.databricks.v1+cell": {
     "cellMetadata": {
      "byteLimit": 2048000,
      "rowLimit": 10000
     },
     "inputWidgets": {},
     "nuid": "f7809fbd-36be-4cb1-b89f-4f20fbbb7fd2",
     "showTitle": false,
     "title": ""
    }
   },
   "outputs": [],
   "source": [
    "# rename columns\n",
    "circuit_df = circuit_df.withColumnRenamed(\"circuitID\", \"circuit_id\") \\\n",
    "    .withColumnRenamed(\"circuitRef\", \"circuit_ref\") \\\n",
    "    .withColumnRenamed(\"lat\", \"latitude\") \\\n",
    "    .withColumnRenamed(\"lng\", \"longitude\") \\\n",
    "    .withColumnRenamed(\"alt\", \"altitude\") \\\n",
    "    .withColumn(\"ingestion_date\", current_timestamp())"
   ]
  },
  {
   "cell_type": "code",
   "execution_count": null,
   "metadata": {
    "application/vnd.databricks.v1+cell": {
     "cellMetadata": {},
     "inputWidgets": {},
     "nuid": "5c3236dd-f358-4763-97d2-112a6dc12cec",
     "showTitle": false,
     "title": ""
    }
   },
   "outputs": [],
   "source": [
    "# write to s3 as a Table\n",
    "circuit_df.write.mode(\"overwrite\").format(\"delta\") \\\n",
    "    .saveAsTable(\"f1_processed.circuits\")"
   ]
  },
  {
   "cell_type": "code",
   "execution_count": null,
   "metadata": {
    "application/vnd.databricks.v1+cell": {
     "cellMetadata": {},
     "inputWidgets": {},
     "nuid": "2813be51-3e90-4210-9a5e-6d0d5a107e76",
     "showTitle": false,
     "title": ""
    }
   },
   "outputs": [],
   "source": [
    "%sql\n",
    "SELECT * FROM f1_processed.circuits;"
   ]
  },
  {
   "cell_type": "markdown",
   "metadata": {
    "application/vnd.databricks.v1+cell": {
     "cellMetadata": {},
     "inputWidgets": {},
     "nuid": "0dd4e65e-5476-4df2-a3aa-114774b854bc",
     "showTitle": false,
     "title": ""
    }
   },
   "source": [
    "### 2. ingest races file - CSV"
   ]
  },
  {
   "cell_type": "code",
   "execution_count": null,
   "metadata": {
    "application/vnd.databricks.v1+cell": {
     "cellMetadata": {
      "byteLimit": 2048000,
      "rowLimit": 10000
     },
     "inputWidgets": {},
     "nuid": "9effeb93-86be-4cd9-9180-4e9b3b11667f",
     "showTitle": false,
     "title": ""
    }
   },
   "outputs": [],
   "source": [
    "race_schema = StructType([StructField(\"raceId\", IntegerType(), False),\n",
    "                          StructField(\"year\", IntegerType(), True),\n",
    "                          StructField(\"round\", IntegerType(), True),\n",
    "                          StructField(\"circuitId\", IntegerType(), True),\n",
    "                          StructField(\"name\", StringType(), True),\n",
    "                          StructField(\"date\", StringType(), True),\n",
    "                          StructField(\"time\", StringType(), True)])"
   ]
  },
  {
   "cell_type": "code",
   "execution_count": null,
   "metadata": {
    "application/vnd.databricks.v1+cell": {
     "cellMetadata": {
      "byteLimit": 2048000,
      "rowLimit": 10000
     },
     "inputWidgets": {},
     "nuid": "f8b093cf-e5c7-4ef8-ae41-aa576ea07b0d",
     "showTitle": false,
     "title": ""
    }
   },
   "outputs": [],
   "source": [
    "race_df = spark.read \\\n",
    "    .option(\"header\", True) \\\n",
    "    .schema(race_schema) \\\n",
    "    .csv(f\"{raw_folder_path}/races.csv\")"
   ]
  },
  {
   "cell_type": "code",
   "execution_count": null,
   "metadata": {
    "application/vnd.databricks.v1+cell": {
     "cellMetadata": {
      "byteLimit": 2048000,
      "rowLimit": 10000
     },
     "inputWidgets": {},
     "nuid": "f6ad2eb7-9249-415a-8ee9-2c1df3189fe7",
     "showTitle": false,
     "title": ""
    }
   },
   "outputs": [],
   "source": [
    "# add timestamp column\n",
    "race_df = race_df.withColumn(\"race_timestamp\", to_timestamp(concat(col(\"date\"), lit(\" \"), col(\"time\")),\"yyyy-MM-dd HH:mm:ss\")) \\\n",
    "    .withColumn(\"ingestion_date\", current_timestamp())"
   ]
  },
  {
   "cell_type": "code",
   "execution_count": null,
   "metadata": {
    "application/vnd.databricks.v1+cell": {
     "cellMetadata": {
      "byteLimit": 2048000,
      "rowLimit": 10000
     },
     "inputWidgets": {},
     "nuid": "4562b748-eb41-433c-b101-b582a6c5a90c",
     "showTitle": false,
     "title": ""
    }
   },
   "outputs": [],
   "source": [
    "# select required columns\n",
    "race_df = race_df.select(col(\"raceId\").alias(\"race_id\"),\n",
    "                         col(\"year\").alias(\"race_year\"),\n",
    "                         col(\"round\"),\n",
    "                         col(\"circuitId\").alias(\"circuit_id\"),\n",
    "                         col(\"name\"),\n",
    "                         col(\"race_timestamp\"),\n",
    "                         col(\"ingestion_date\"))"
   ]
  },
  {
   "cell_type": "code",
   "execution_count": null,
   "metadata": {
    "application/vnd.databricks.v1+cell": {
     "cellMetadata": {
      "byteLimit": 2048000,
      "rowLimit": 10000
     },
     "inputWidgets": {},
     "nuid": "2a65ef54-4a72-4975-816c-36105e228b28",
     "showTitle": false,
     "title": ""
    }
   },
   "outputs": [],
   "source": [
    "# write to s3 by partitioning\n",
    "# race_df.write.mode(\"overwrite\") \\\n",
    "#     .partitionBy(\"race_year\") \\\n",
    "#     .parquet(f\"{precessed_folder_path}/races.parquet\")"
   ]
  },
  {
   "cell_type": "code",
   "execution_count": null,
   "metadata": {
    "application/vnd.databricks.v1+cell": {
     "cellMetadata": {},
     "inputWidgets": {},
     "nuid": "6856082c-29ea-424e-ba04-12ed5bbcabd4",
     "showTitle": false,
     "title": ""
    }
   },
   "outputs": [],
   "source": [
    "# write to s3 as a Table\n",
    "race_df.write.mode(\"overwrite\").format(\"parquet\") \\\n",
    "    .saveAsTable(\"f1_processed.races\")"
   ]
  },
  {
   "cell_type": "markdown",
   "metadata": {
    "application/vnd.databricks.v1+cell": {
     "cellMetadata": {},
     "inputWidgets": {},
     "nuid": "381feb98-33ab-45ae-8922-16771578d006",
     "showTitle": false,
     "title": ""
    }
   },
   "source": [
    "### 3. ingest constructors file - JSON"
   ]
  },
  {
   "cell_type": "code",
   "execution_count": null,
   "metadata": {
    "application/vnd.databricks.v1+cell": {
     "cellMetadata": {
      "byteLimit": 2048000,
      "rowLimit": 10000
     },
     "inputWidgets": {},
     "nuid": "4de7f7a1-b38c-4a43-9a2b-486e6b86ddae",
     "showTitle": false,
     "title": ""
    }
   },
   "outputs": [],
   "source": [
    "constructor_schema = \"constructorId INT, constructorRef STRING, name STRING, nationality STRING, url STRING\""
   ]
  },
  {
   "cell_type": "code",
   "execution_count": null,
   "metadata": {
    "application/vnd.databricks.v1+cell": {
     "cellMetadata": {
      "byteLimit": 2048000,
      "rowLimit": 10000
     },
     "inputWidgets": {},
     "nuid": "b4030cb2-b548-411f-a6ff-d50441474dda",
     "showTitle": false,
     "title": ""
    }
   },
   "outputs": [],
   "source": [
    "constructor_df = spark.read \\\n",
    "    .schema(constructor_schema) \\\n",
    "    .json(f\"{raw_folder_path}/constructors.json\")"
   ]
  },
  {
   "cell_type": "code",
   "execution_count": null,
   "metadata": {
    "application/vnd.databricks.v1+cell": {
     "cellMetadata": {
      "byteLimit": 2048000,
      "rowLimit": 10000
     },
     "inputWidgets": {},
     "nuid": "3e2b3b02-60fd-4ff1-9985-df638cb2bebf",
     "showTitle": false,
     "title": ""
    }
   },
   "outputs": [],
   "source": [
    "# drop a column\n",
    "constructor_df = constructor_df.drop(col(\"url\"))"
   ]
  },
  {
   "cell_type": "code",
   "execution_count": null,
   "metadata": {
    "application/vnd.databricks.v1+cell": {
     "cellMetadata": {
      "byteLimit": 2048000,
      "rowLimit": 10000
     },
     "inputWidgets": {},
     "nuid": "c62a9e80-dc8f-47ed-8e67-515401a9f157",
     "showTitle": false,
     "title": ""
    }
   },
   "outputs": [],
   "source": [
    "# rename and create a new column\n",
    "constructor_df = constructor_df.withColumnRenamed(\"constructorId\", \"constructor_id\") \\\n",
    "    .withColumnRenamed(\"constructorRef\", \"constructor_ref\") \\\n",
    "    .withColumn(\"ingestion_date\", current_timestamp())"
   ]
  },
  {
   "cell_type": "code",
   "execution_count": null,
   "metadata": {
    "application/vnd.databricks.v1+cell": {
     "cellMetadata": {
      "byteLimit": 2048000,
      "rowLimit": 10000
     },
     "inputWidgets": {},
     "nuid": "63304269-cb65-4f1c-bb16-ab23a249eff5",
     "showTitle": false,
     "title": ""
    }
   },
   "outputs": [],
   "source": [
    "# write to s3\n",
    "# constructor_df.write.mode(\"overwrite\") \\\n",
    "#     .parquet(f\"{precessed_folder_path}/constructors.parquet\")"
   ]
  },
  {
   "cell_type": "code",
   "execution_count": null,
   "metadata": {
    "application/vnd.databricks.v1+cell": {
     "cellMetadata": {},
     "inputWidgets": {},
     "nuid": "29b01eb2-9eca-47be-9e2c-7ba28ec976de",
     "showTitle": false,
     "title": ""
    }
   },
   "outputs": [],
   "source": [
    "# write to s3 as a Table\n",
    "constructor_df.write.mode(\"overwrite\").format(\"parquet\") \\\n",
    "    .saveAsTable(\"f1_processed.constructors\")"
   ]
  },
  {
   "cell_type": "markdown",
   "metadata": {
    "application/vnd.databricks.v1+cell": {
     "cellMetadata": {},
     "inputWidgets": {},
     "nuid": "ea3f0fa4-d996-440d-ac15-62c0cc320b97",
     "showTitle": false,
     "title": ""
    }
   },
   "source": [
    "### 4. ingest drivers file - JSON"
   ]
  },
  {
   "cell_type": "code",
   "execution_count": null,
   "metadata": {
    "application/vnd.databricks.v1+cell": {
     "cellMetadata": {
      "byteLimit": 2048000,
      "rowLimit": 10000
     },
     "inputWidgets": {},
     "nuid": "c778ea7e-ad92-4c1e-96fa-afb6f2932563",
     "showTitle": false,
     "title": ""
    }
   },
   "outputs": [],
   "source": [
    "name_schema = StructType([StructField(\"forename\", StringType(), True),\n",
    "                          StructField(\"surname\", StringType(), True)])"
   ]
  },
  {
   "cell_type": "code",
   "execution_count": null,
   "metadata": {
    "application/vnd.databricks.v1+cell": {
     "cellMetadata": {
      "byteLimit": 2048000,
      "rowLimit": 10000
     },
     "inputWidgets": {},
     "nuid": "02afa9f3-abdd-49ef-bbe8-f05bc5daddb7",
     "showTitle": false,
     "title": ""
    }
   },
   "outputs": [],
   "source": [
    "driver_schema = StructType([StructField(\"driverId\", IntegerType(), False),\n",
    "                          StructField(\"driverRef\", StringType(), True),\n",
    "                          StructField(\"number\", IntegerType(), True),\n",
    "                          StructField(\"code\", StringType(), True),\n",
    "                          StructField(\"name\", name_schema, True),\n",
    "                          StructField(\"dob\", DateType(), True),\n",
    "                          StructField(\"nationality\", StringType(), True),\n",
    "                          StructField(\"url\", StringType(), True)])"
   ]
  },
  {
   "cell_type": "code",
   "execution_count": null,
   "metadata": {
    "application/vnd.databricks.v1+cell": {
     "cellMetadata": {
      "byteLimit": 2048000,
      "rowLimit": 10000
     },
     "inputWidgets": {},
     "nuid": "859b88b2-7a2c-44e2-b5cf-bf0eb9f9d79b",
     "showTitle": false,
     "title": ""
    }
   },
   "outputs": [],
   "source": [
    "driver_df = spark.read \\\n",
    "    .schema(driver_schema) \\\n",
    "    .json(f\"{raw_folder_path}/drivers.json\")"
   ]
  },
  {
   "cell_type": "code",
   "execution_count": null,
   "metadata": {
    "application/vnd.databricks.v1+cell": {
     "cellMetadata": {
      "byteLimit": 2048000,
      "rowLimit": 10000
     },
     "inputWidgets": {},
     "nuid": "fb849dde-51ba-4a96-9219-d033e0d3d6e9",
     "showTitle": false,
     "title": ""
    }
   },
   "outputs": [],
   "source": [
    "# rename and create new columns\n",
    "driver_df = driver_df.withColumnRenamed(\"driverId\", \"driver_id\") \\\n",
    "    .withColumnRenamed(\"driverRef\", \"driver_ref\") \\\n",
    "    .withColumn(\"name\", concat(col(\"name.forename\"), lit(\" \"), col(\"name.surname\"))) \\\n",
    "    .withColumn(\"ingestion_date\", current_timestamp())"
   ]
  },
  {
   "cell_type": "code",
   "execution_count": null,
   "metadata": {
    "application/vnd.databricks.v1+cell": {
     "cellMetadata": {
      "byteLimit": 2048000,
      "rowLimit": 10000
     },
     "inputWidgets": {},
     "nuid": "7afc6cea-e8f2-40d5-af31-d8627d975054",
     "showTitle": false,
     "title": ""
    }
   },
   "outputs": [],
   "source": [
    "# drop columns\n",
    "driver_df = driver_df.drop(col(\"url\"))"
   ]
  },
  {
   "cell_type": "code",
   "execution_count": null,
   "metadata": {
    "application/vnd.databricks.v1+cell": {
     "cellMetadata": {
      "byteLimit": 2048000,
      "rowLimit": 10000
     },
     "inputWidgets": {},
     "nuid": "400751ac-3599-45f6-8b32-b072330c50f1",
     "showTitle": false,
     "title": ""
    }
   },
   "outputs": [],
   "source": [
    "# write to s3\n",
    "# driver_df.write.mode(\"overwrite\") \\\n",
    "#     .parquet(f\"{precessed_folder_path}/drivers.parquet\")"
   ]
  },
  {
   "cell_type": "code",
   "execution_count": null,
   "metadata": {
    "application/vnd.databricks.v1+cell": {
     "cellMetadata": {},
     "inputWidgets": {},
     "nuid": "7513cf4d-9013-4b1c-8709-f6c52fe76c11",
     "showTitle": false,
     "title": ""
    }
   },
   "outputs": [],
   "source": [
    "# write to s3 as a Table\n",
    "driver_df.write.mode(\"overwrite\").format(\"parquet\") \\\n",
    "    .saveAsTable(\"f1_processed.drivers\")"
   ]
  },
  {
   "cell_type": "markdown",
   "metadata": {
    "application/vnd.databricks.v1+cell": {
     "cellMetadata": {},
     "inputWidgets": {},
     "nuid": "8f522510-85e3-4800-8380-b39f0d8823f6",
     "showTitle": false,
     "title": ""
    }
   },
   "source": [
    "### 5. ingest results file - JSON"
   ]
  },
  {
   "cell_type": "code",
   "execution_count": null,
   "metadata": {
    "application/vnd.databricks.v1+cell": {
     "cellMetadata": {
      "byteLimit": 2048000,
      "rowLimit": 10000
     },
     "inputWidgets": {},
     "nuid": "c2d4f50a-ee6e-4567-99a1-292adbb245f3",
     "showTitle": false,
     "title": ""
    }
   },
   "outputs": [],
   "source": [
    "result_schema = StructType([StructField(\"resultId\", IntegerType(), False),\n",
    "                            StructField(\"raceId\", IntegerType(), True),\n",
    "                            StructField(\"driverId\", IntegerType(), True),\n",
    "                            StructField(\"constructorId\", IntegerType(), True),\n",
    "                            StructField(\"number\", IntegerType(), True),\n",
    "                            StructField(\"grid\", IntegerType(), True),\n",
    "                            StructField(\"position\", IntegerType(), True),\n",
    "                            StructField(\"positionText\", StringType(), True),\n",
    "                            StructField(\"positionOrder\", IntegerType(), True),\n",
    "                            StructField(\"points\", FloatType(), True),\n",
    "                            StructField(\"laps\", IntegerType(), True),\n",
    "                            StructField(\"time\", StringType(), True),\n",
    "                            StructField(\"milliseconds\", IntegerType(), True),\n",
    "                            StructField(\"fastestLap\", IntegerType(), True),\n",
    "                            StructField(\"rank\", IntegerType(), True),\n",
    "                            StructField(\"fastestLapTime\", StringType(), True),\n",
    "                            StructField(\"fastestLapSpeed\", FloatType(), True),\n",
    "                            StructField(\"statusId\", StringType(), True)])"
   ]
  },
  {
   "cell_type": "code",
   "execution_count": null,
   "metadata": {
    "application/vnd.databricks.v1+cell": {
     "cellMetadata": {
      "byteLimit": 2048000,
      "rowLimit": 10000
     },
     "inputWidgets": {},
     "nuid": "d269ed75-e9ee-433b-94d3-91a73562be88",
     "showTitle": false,
     "title": ""
    }
   },
   "outputs": [],
   "source": [
    "result_df = spark.read \\\n",
    "    .schema(result_schema) \\\n",
    "    .json(f\"{v_data_source}/{v_file_date}/results.json\")"
   ]
  },
  {
   "cell_type": "code",
   "execution_count": null,
   "metadata": {
    "application/vnd.databricks.v1+cell": {
     "cellMetadata": {
      "byteLimit": 2048000,
      "rowLimit": 10000
     },
     "inputWidgets": {},
     "nuid": "887ca66d-e595-438b-ad64-039392ed36bf",
     "showTitle": false,
     "title": ""
    }
   },
   "outputs": [],
   "source": [
    "# rename and create a new column\n",
    "result_df = result_df.withColumnRenamed(\"resultId\", \"result_id\") \\\n",
    "    .withColumnRenamed(\"raceId\", \"race_id\") \\\n",
    "    .withColumnRenamed(\"drivertId\", \"driver_id\") \\\n",
    "    .withColumnRenamed(\"constructorId\", \"constructor_id\") \\\n",
    "    .withColumnRenamed(\"positionText\", \"position_text\") \\\n",
    "    .withColumnRenamed(\"positionOrder\", \"position_order\") \\\n",
    "    .withColumnRenamed(\"fastestLap\", \"fastest_lap\") \\\n",
    "    .withColumnRenamed(\"fastestLapTime\", \"fastest_lap_time\") \\\n",
    "    .withColumnRenamed(\"fastestLapSpeed\", \"fastest_lap_speed\") \\\n",
    "    .withColumn(\"data_source\", lit(v_data_source)) \\\n",
    "    .withColumn(\"file_date\", lit(v_file_date)) \\\n",
    "    .drop(col(\"statusId\"))"
   ]
  },
  {
   "cell_type": "code",
   "execution_count": null,
   "metadata": {
    "application/vnd.databricks.v1+cell": {
     "cellMetadata": {},
     "inputWidgets": {},
     "nuid": "ee016eb7-4710-4e0d-857c-e7e87f66b775",
     "showTitle": false,
     "title": ""
    }
   },
   "outputs": [],
   "source": [
    "merge_con = \"tgt.result_id = src.result_id AND tgt.race_id = src.race_id\"\n",
    "merge_dalta_data(result_df, \"f1_processed\", \"results\", \"s3://formula1-dl/processed\", \n",
    "                 merge_con, \"race_id\")"
   ]
  },
  {
   "cell_type": "code",
   "execution_count": null,
   "metadata": {
    "application/vnd.databricks.v1+cell": {
     "cellMetadata": {},
     "inputWidgets": {},
     "nuid": "c6b4cf56-8c2c-496e-aad2-227de6cfe420",
     "showTitle": false,
     "title": ""
    }
   },
   "outputs": [],
   "source": [
    "%sql\n",
    "SELECT race_id, COUNT(1)\n",
    "FROM f1_processed.results\n",
    "GROUP BY race_id\n",
    "ORDER BY race_id DESC;"
   ]
  },
  {
   "cell_type": "markdown",
   "metadata": {
    "application/vnd.databricks.v1+cell": {
     "cellMetadata": {},
     "inputWidgets": {},
     "nuid": "957e1586-4aee-4e2d-82aa-d5288fd96975",
     "showTitle": false,
     "title": ""
    }
   },
   "source": [
    "### 6. ingest pit_stops file - JSON (multiline)"
   ]
  },
  {
   "cell_type": "code",
   "execution_count": null,
   "metadata": {
    "application/vnd.databricks.v1+cell": {
     "cellMetadata": {
      "byteLimit": 2048000,
      "rowLimit": 10000
     },
     "inputWidgets": {},
     "nuid": "73dcd40c-e5de-4a66-a515-152bfaed292e",
     "showTitle": false,
     "title": ""
    }
   },
   "outputs": [],
   "source": [
    "pit_stop_schema = StructType([StructField(\"raceId\", IntegerType(), False),\n",
    "                              StructField(\"driverId\", IntegerType(), True),\n",
    "                              StructField(\"stop\", StringType(), True),\n",
    "                              StructField(\"lap\", IntegerType(), True),\n",
    "                              StructField(\"time\", StringType(), True),\n",
    "                              StructField(\"duration\", StringType(), True),\n",
    "                              StructField(\"milliseconds\", IntegerType(), True)])"
   ]
  },
  {
   "cell_type": "code",
   "execution_count": null,
   "metadata": {
    "application/vnd.databricks.v1+cell": {
     "cellMetadata": {
      "byteLimit": 2048000,
      "rowLimit": 10000
     },
     "inputWidgets": {},
     "nuid": "74c6d6bf-97f0-4da3-ac92-558de9313ba4",
     "showTitle": false,
     "title": ""
    }
   },
   "outputs": [],
   "source": [
    "pit_stop_df = spark.read \\\n",
    "    .schema(pit_stop_schema) \\\n",
    "    .option(\"multiLine\", True) \\\n",
    "    .json(f\"f\"{v_data_source}/{v_file_date}/pit_stops.json\")"
   ]
  },
  {
   "cell_type": "code",
   "execution_count": null,
   "metadata": {
    "application/vnd.databricks.v1+cell": {
     "cellMetadata": {
      "byteLimit": 2048000,
      "rowLimit": 10000
     },
     "inputWidgets": {},
     "nuid": "4a491c65-c460-4b05-ae31-28030639bc17",
     "showTitle": false,
     "title": ""
    }
   },
   "outputs": [],
   "source": [
    "# rename and create a new column\n",
    "pit_stop_df = pit_stop_df.withColumnRenamed(\"driverId\", \"driver_id\") \\\n",
    "    .withColumnRenamed(\"raceId\", \"race_id\") \\\n",
    "    .withColumn(\"ingestion_date\", current_timestamp())\n",
    "    .withColumn(\"data_source\", lit(v_data_source)) \\\n",
    "    .withColumn(\"file_date\", lit(v_file_date))"
   ]
  },
  {
   "cell_type": "code",
   "execution_count": null,
   "metadata": {
    "application/vnd.databricks.v1+cell": {
     "cellMetadata": {},
     "inputWidgets": {},
     "nuid": "262be5ee-be44-4605-8425-cf7b0ebf9348",
     "showTitle": false,
     "title": ""
    }
   },
   "outputs": [],
   "source": [
    "merge_con = \"\"\"tgt.result_id = src.result_id AND tgt.driver_id = src.driver_id AND \n",
    "    tgt.stop = src.stop AND tgt.race_id = src.race_id\"\"\"\n",
    "merge_dalta_data(pit_stop_df, \"f1_processed\", \"pit_stops\", \"s3://<bucket>/processed\", \n",
    "                 merge_con, \"race_id\")"
   ]
  },
  {
   "cell_type": "markdown",
   "metadata": {
    "application/vnd.databricks.v1+cell": {
     "cellMetadata": {},
     "inputWidgets": {},
     "nuid": "0f0af125-b90e-496e-a867-8a3655650f25",
     "showTitle": false,
     "title": ""
    }
   },
   "source": [
    "### 7. ingest lap_times file - FOLDER_CSV"
   ]
  },
  {
   "cell_type": "code",
   "execution_count": null,
   "metadata": {
    "application/vnd.databricks.v1+cell": {
     "cellMetadata": {
      "byteLimit": 2048000,
      "rowLimit": 10000
     },
     "inputWidgets": {},
     "nuid": "dd632914-3b5d-44cf-9478-a8154a790969",
     "showTitle": false,
     "title": ""
    }
   },
   "outputs": [],
   "source": [
    "lap_times_schema = StructType([StructField(\"raceId\", IntegerType(), False),\n",
    "                               StructField(\"driverId\", IntegerType(), True),\n",
    "                               StructField(\"lap\", IntegerType(), True),\n",
    "                               StructField(\"position\", IntegerType(), True),\n",
    "                               StructField(\"time\", StringType(), True),\n",
    "                               StructField(\"milliseconds\", IntegerType(), True)])"
   ]
  },
  {
   "cell_type": "code",
   "execution_count": null,
   "metadata": {
    "application/vnd.databricks.v1+cell": {
     "cellMetadata": {
      "byteLimit": 2048000,
      "rowLimit": 10000
     },
     "inputWidgets": {},
     "nuid": "519370cf-138e-4d4b-b94b-18b128ecbbbd",
     "showTitle": false,
     "title": ""
    }
   },
   "outputs": [],
   "source": [
    "lap_times_df = spark.read \\\n",
    "    .schema(lap_times_schema) \\\n",
    "    .csv(f\"{raw_folder_path}/lap_times\")"
   ]
  },
  {
   "cell_type": "code",
   "execution_count": null,
   "metadata": {
    "application/vnd.databricks.v1+cell": {
     "cellMetadata": {
      "byteLimit": 2048000,
      "rowLimit": 10000
     },
     "inputWidgets": {},
     "nuid": "fa145681-9605-4ab1-8d76-9efaa0d97aec",
     "showTitle": false,
     "title": ""
    }
   },
   "outputs": [],
   "source": [
    "# rename and create a new column\n",
    "lap_times_df = lap_times_df.withColumnRenamed(\"driverId\", \"driver_id\") \\\n",
    "    .withColumnRenamed(\"raceId\", \"race_id\") \\\n",
    "    .withColumn(\"ingestion_date\", current_timestamp())"
   ]
  },
  {
   "cell_type": "code",
   "execution_count": null,
   "metadata": {
    "application/vnd.databricks.v1+cell": {
     "cellMetadata": {},
     "inputWidgets": {},
     "nuid": "f1ac4bf9-1bad-4e3d-a924-0bf1695912b4",
     "showTitle": false,
     "title": ""
    }
   },
   "outputs": [],
   "source": [
    "merge_con = \"\"\"tgt.result_id = src.result_id AND tgt.driver_id = src.driver_id AND \n",
    "    tgt.stop = src.stop AND tgt.race_id = src.race_id\"\"\"\n",
    "merge_dalta_data(lap_times_df, \"f1_processed\", \"lap_times\", \"s3://<bucket>/processed\", \n",
    "                 merge_con, \"race_id\")"
   ]
  },
  {
   "cell_type": "markdown",
   "metadata": {
    "application/vnd.databricks.v1+cell": {
     "cellMetadata": {},
     "inputWidgets": {},
     "nuid": "9843e841-1aa6-425d-a482-81e2039c8d3d",
     "showTitle": false,
     "title": ""
    }
   },
   "source": [
    "### 8. ingest qualifying file - FOLDER_JSON"
   ]
  },
  {
   "cell_type": "code",
   "execution_count": null,
   "metadata": {
    "application/vnd.databricks.v1+cell": {
     "cellMetadata": {
      "byteLimit": 2048000,
      "rowLimit": 10000
     },
     "inputWidgets": {},
     "nuid": "68cce0d3-e54d-4ecb-bcac-df45e6eb61ec",
     "showTitle": false,
     "title": ""
    }
   },
   "outputs": [],
   "source": [
    "qualifying_schema = StructType([StructField(\"qualifyingId\", IntegerType(), False),\n",
    "                                StructField(\"raceId\", IntegerType(), True),\n",
    "                                StructField(\"driverId\", IntegerType(), True),\n",
    "                                StructField(\"constructorId\", IntegerType(), True),\n",
    "                                StructField(\"number\", IntegerType(), True),\n",
    "                                StructField(\"position\", IntegerType(), True),\n",
    "                                StructField(\"q1\", StringType(), True),\n",
    "                                StructField(\"q2\", StringType(), True),\n",
    "                                StructField(\"q3\", StringType(), True)])"
   ]
  },
  {
   "cell_type": "code",
   "execution_count": null,
   "metadata": {
    "application/vnd.databricks.v1+cell": {
     "cellMetadata": {
      "byteLimit": 2048000,
      "rowLimit": 10000
     },
     "inputWidgets": {},
     "nuid": "8f0b2b00-4f26-47ff-b934-d39b0666492b",
     "showTitle": false,
     "title": ""
    }
   },
   "outputs": [],
   "source": [
    "qualifying_df = spark.read \\\n",
    "    .schema(qualifying_schema) \\\n",
    "    .option(\"multiLine\", True) \\\n",
    "    .json(f\"{raw_folder_path}/qualifying\")"
   ]
  },
  {
   "cell_type": "code",
   "execution_count": null,
   "metadata": {
    "application/vnd.databricks.v1+cell": {
     "cellMetadata": {
      "byteLimit": 2048000,
      "rowLimit": 10000
     },
     "inputWidgets": {},
     "nuid": "edab49a5-91d4-4c1b-9c8f-0c4fb666fe99",
     "showTitle": false,
     "title": ""
    }
   },
   "outputs": [],
   "source": [
    "# rename and create a new column\n",
    "qualifying_df = qualifying_df.withColumnRenamed(\"qualifyingId\", \"qualifying_id\") \\\n",
    "    .withColumnRenamed(\"raceId\", \"race_id\") \\\n",
    "    .withColumnRenamed(\"driverId\", \"driver_id\") \\\n",
    "    .withColumnRenamed(\"constructorId\", \"constructor_id\") \\\n",
    "    .withColumn(\"ingestion_date\", current_timestamp())"
   ]
  },
  {
   "cell_type": "code",
   "execution_count": null,
   "metadata": {
    "application/vnd.databricks.v1+cell": {
     "cellMetadata": {
      "byteLimit": 2048000,
      "rowLimit": 10000
     },
     "inputWidgets": {},
     "nuid": "ba04a8d7-b61b-41ce-9faf-a64e268a92b0",
     "showTitle": false,
     "title": ""
    }
   },
   "outputs": [],
   "source": [
    "# write to s3\n",
    "# qualifying_df.write.mode(\"overwrite\") \\\n",
    "#     .parquet(f\"{precessed_folder_path}/qualifying.parquet\")"
   ]
  },
  {
   "cell_type": "code",
   "execution_count": null,
   "metadata": {
    "application/vnd.databricks.v1+cell": {
     "cellMetadata": {},
     "inputWidgets": {},
     "nuid": "cd97f972-8fe1-4ab4-9fd1-a34ab80ca33a",
     "showTitle": false,
     "title": ""
    }
   },
   "outputs": [],
   "source": [
    "# write to s3 as a Table\n",
    "qualifying_df.write.mode(\"overwrite\").format(\"parquet\") \\\n",
    "    .saveAsTable(\"f1_processed.qualifyings\")"
   ]
  }
 ],
 "metadata": {
  "application/vnd.databricks.v1+notebook": {
   "dashboards": [],
   "language": "python",
   "notebookMetadata": {
    "pythonIndentUnit": 4
   },
   "notebookName": "formula1 - data ingestion (delta-lake)",
   "widgets": {}
  },
  "language_info": {
   "name": "python"
  }
 },
 "nbformat": 4,
 "nbformat_minor": 0
}
