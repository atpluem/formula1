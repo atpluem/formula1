{
 "cells": [
  {
   "cell_type": "code",
   "execution_count": null,
   "metadata": {
    "application/vnd.databricks.v1+cell": {
     "cellMetadata": {},
     "inputWidgets": {},
     "nuid": "9afaf30a-b180-43cf-821c-0e7dde52ba7d",
     "showTitle": false,
     "title": ""
    }
   },
   "outputs": [],
   "source": [
    "from pyspark.sql.functions import current_timestamp, sum, desc, asc, rank\n",
    "from pyspark.sql.window import Window"
   ]
  },
  {
   "cell_type": "code",
   "execution_count": null,
   "metadata": {
    "application/vnd.databricks.v1+cell": {
     "cellMetadata": {},
     "inputWidgets": {},
     "nuid": "62c1403e-88c3-4f31-9815-ca491ca030c9",
     "showTitle": false,
     "title": ""
    }
   },
   "outputs": [],
   "source": [
    "%run \"includes/configuration\""
   ]
  },
  {
   "cell_type": "code",
   "execution_count": null,
   "metadata": {
    "application/vnd.databricks.v1+cell": {
     "cellMetadata": {},
     "inputWidgets": {},
     "nuid": "db6c68ba-33f7-43ce-b326-b4b08edb8ba7",
     "showTitle": false,
     "title": ""
    }
   },
   "outputs": [],
   "source": [
    "CREATE DATABASE IF NOT EXISTS f1_presentation;\n",
    "LOCATION \"s3://<bucket>/presentation\""
   ]
  },
  {
   "cell_type": "markdown",
   "metadata": {
    "application/vnd.databricks.v1+cell": {
     "cellMetadata": {},
     "inputWidgets": {},
     "nuid": "9938fe07-57c5-4218-b933-fab06443d2ec",
     "showTitle": false,
     "title": ""
    }
   },
   "source": [
    "### 1.race results"
   ]
  },
  {
   "cell_type": "code",
   "execution_count": null,
   "metadata": {
    "application/vnd.databricks.v1+cell": {
     "cellMetadata": {},
     "inputWidgets": {},
     "nuid": "d1f33d10-79e8-42a4-b369-68296670d735",
     "showTitle": false,
     "title": ""
    }
   },
   "outputs": [],
   "source": [
    "race_df = spark.read.parquet(f\"{processed_folder_path}/races.parquet\") \\\n",
    "    .withColumnRenamed(\"name\", \"race_name\") \\\n",
    "    .withColumnRenamed(\"race_timestamp\", \"race_date\")\n",
    "driver_df = spark.read.parquet(f\"{processed_folder_path}/drivers.parquet\") \\\n",
    "    .withColumnRenamed(\"name\", \"driver_name\") \\\n",
    "    .withColumnRenamed(\"number\", \"driver_number\") \\\n",
    "    .withColumnRenamed(\"nationality\", \"driver_nationality\")\n",
    "constructor_df = spark.read.parquet(f\"{processed_folder_path}/constructors.parquet\") \\\n",
    "    .withColumnRenamed(\"name\", \"team\")\n",
    "circuit_df = spark.read.parquet(f\"{processed_folder_path}/circuits.parquet\") \\\n",
    "    .withColumnRenamed(\"location\", \"circuit_location\")\n",
    "result_df = spark.read.parquet(f\"{processed_folder_path}/results.parquet\") \\\n",
    "    .withColumnRenamed(\"time\", \"race_time\")"
   ]
  },
  {
   "cell_type": "code",
   "execution_count": null,
   "metadata": {
    "application/vnd.databricks.v1+cell": {
     "cellMetadata": {},
     "inputWidgets": {},
     "nuid": "125b6fc6-f1b9-48e8-b48b-d9b125896c08",
     "showTitle": false,
     "title": ""
    }
   },
   "outputs": [],
   "source": [
    "race_result_df = result_df.join(race_df, result_df.race_id == race_df.race_id, \"inner\") \\\n",
    "    .join(driver_df, result_df.driver_id == driver_df.driver_id, \"inner\") \\\n",
    "    .join(constructor_df, result_df.constructor_id == constructor_df.constructor_id , \"inner\") \\\n",
    "    .join(circuit_df, race_df.circuit_id == circuit_df.circuit_id, \"inner\") \\\n",
    "    .select(\"race_year\", \"race_name\", \"race_date\", \"circuit_location\",\n",
    "            \"driver_name\", \"driver_number\", \"driver_nationality\", \"team\", \"grid\", \n",
    "            \"fastest_lap\", \"race_time\", \"points\", \"position\") \\\n",
    "    .withColumn(\"created_date\", current_timestamp())"
   ]
  },
  {
   "cell_type": "code",
   "execution_count": null,
   "metadata": {
    "application/vnd.databricks.v1+cell": {
     "cellMetadata": {},
     "inputWidgets": {},
     "nuid": "0a18a1c6-d2c9-4e79-aa24-cf6866e2887c",
     "showTitle": false,
     "title": ""
    }
   },
   "outputs": [],
   "source": [
    "display(race_result_df.filter(\"race_year == 2020\") \\\n",
    "    .orderBy(race_result_df.points.desc()))"
   ]
  },
  {
   "cell_type": "code",
   "execution_count": null,
   "metadata": {
    "application/vnd.databricks.v1+cell": {
     "cellMetadata": {},
     "inputWidgets": {},
     "nuid": "73d8321f-ecda-4cea-a51f-6a3e954bc1fb",
     "showTitle": false,
     "title": ""
    }
   },
   "outputs": [],
   "source": [
    "# race_result_df.write.mode(\"overwrite\") \\\n",
    "#     .parquet(f\"{presentation_folder_path}/race_results.parquet\")"
   ]
  },
  {
   "cell_type": "code",
   "execution_count": null,
   "metadata": {
    "application/vnd.databricks.v1+cell": {
     "cellMetadata": {},
     "inputWidgets": {},
     "nuid": "c9612a1c-a566-4c6c-baf8-eeb032b98f98",
     "showTitle": false,
     "title": ""
    }
   },
   "outputs": [],
   "source": [
    "race_result_df.write.mode(\"overwrite\").format(\"parquet\") \\\n",
    "    .saveAsTable(\"f1_presentation.race_results\")"
   ]
  },
  {
   "cell_type": "markdown",
   "metadata": {
    "application/vnd.databricks.v1+cell": {
     "cellMetadata": {},
     "inputWidgets": {},
     "nuid": "466a787a-0ab8-4713-aaa9-518ac6562f21",
     "showTitle": false,
     "title": ""
    }
   },
   "source": [
    "### 2.driver standings"
   ]
  },
  {
   "cell_type": "code",
   "execution_count": null,
   "metadata": {
    "application/vnd.databricks.v1+cell": {
     "cellMetadata": {},
     "inputWidgets": {},
     "nuid": "96ed467e-121c-467b-b635-a064a069fc56",
     "showTitle": false,
     "title": ""
    }
   },
   "outputs": [],
   "source": [
    "driver_standing_df = race_result_df \\\n",
    "    .groupBy(\"race_year\", \"driver_name\", \"driver_nationality\", \"team\") \\\n",
    "    .agg(sum(\"points\").alias(\"total_points\"),\n",
    "         count(when(col(\"position\") == 1, True)).alias(\"wins\"))"
   ]
  },
  {
   "cell_type": "code",
   "execution_count": null,
   "metadata": {
    "application/vnd.databricks.v1+cell": {
     "cellMetadata": {},
     "inputWidgets": {},
     "nuid": "c755656d-2951-4bd2-bc75-2b621ad2d2a5",
     "showTitle": false,
     "title": ""
    }
   },
   "outputs": [],
   "source": [
    "driver_rank_spec = Window.partitionBy(\"race_year\") \\\n",
    "    .orderBy(desc(\"total_points\"), desc(\"wins\")) \\\n",
    "driver_standing_df = driver_standing_df \\\n",
    "    .withColumn(\"rank\", rank().over(driver_rank_spec))"
   ]
  },
  {
   "cell_type": "code",
   "execution_count": null,
   "metadata": {
    "application/vnd.databricks.v1+cell": {
     "cellMetadata": {},
     "inputWidgets": {},
     "nuid": "35532e2a-f83a-4eaa-8e66-c6d15d7ecdbe",
     "showTitle": false,
     "title": ""
    }
   },
   "outputs": [],
   "source": [
    "display(driver_standing_df.filter(\"race_year = 2020\"))"
   ]
  },
  {
   "cell_type": "code",
   "execution_count": null,
   "metadata": {
    "application/vnd.databricks.v1+cell": {
     "cellMetadata": {},
     "inputWidgets": {},
     "nuid": "494f089f-d783-4b76-aa34-c0b2e6a03054",
     "showTitle": false,
     "title": ""
    }
   },
   "outputs": [],
   "source": [
    "# driver_standing_df.write.mode(\"overwrite\") \\\n",
    "#     .parquet(f\"{presentation_folder_path}/driver_standings.parquet\")"
   ]
  },
  {
   "cell_type": "code",
   "execution_count": null,
   "metadata": {
    "application/vnd.databricks.v1+cell": {
     "cellMetadata": {},
     "inputWidgets": {},
     "nuid": "f7cf5c8b-fe2e-41e3-9477-e4a2a77b98ab",
     "showTitle": false,
     "title": ""
    }
   },
   "outputs": [],
   "source": [
    "driver_standing_df.write.mode(\"overwrite\").format(\"parquet\") \\\n",
    "    .saveAsTable(\"f1_presentation.driver_standings\")"
   ]
  },
  {
   "cell_type": "markdown",
   "metadata": {
    "application/vnd.databricks.v1+cell": {
     "cellMetadata": {},
     "inputWidgets": {},
     "nuid": "9f0ec701-e409-4635-abd1-f97e24154d39",
     "showTitle": false,
     "title": ""
    }
   },
   "source": [
    "### 3.constructor standings"
   ]
  },
  {
   "cell_type": "code",
   "execution_count": null,
   "metadata": {
    "application/vnd.databricks.v1+cell": {
     "cellMetadata": {},
     "inputWidgets": {},
     "nuid": "4f7c9df0-e6c3-4490-a352-981e1829bb39",
     "showTitle": false,
     "title": ""
    }
   },
   "outputs": [],
   "source": [
    "constructor_standing_df = race_result_df \\\n",
    "    .groupBy(\"race_year\", \"team\") \\\n",
    "    .agg(sum(\"points\").alias(\"total_points\"),\n",
    "         count(when(col(\"position\") == 1, True)).alias(\"wins\"))"
   ]
  },
  {
   "cell_type": "code",
   "execution_count": null,
   "metadata": {
    "application/vnd.databricks.v1+cell": {
     "cellMetadata": {},
     "inputWidgets": {},
     "nuid": "4048eb8e-37a5-4ecd-b865-9137cdd88e0b",
     "showTitle": false,
     "title": ""
    }
   },
   "outputs": [],
   "source": [
    "constructor_rank_spec = Window.partitionBy(\"race_year\") \\\n",
    "    .orderBy(desc(\"total_points\"), desc(\"wins\")) \\\n",
    "constructor_standing_df = constructor_standing_df \\\n",
    "    .withColumn(\"rank\", rank().over(constructor_rank_spec))"
   ]
  },
  {
   "cell_type": "code",
   "execution_count": null,
   "metadata": {
    "application/vnd.databricks.v1+cell": {
     "cellMetadata": {},
     "inputWidgets": {},
     "nuid": "5d78274b-3144-4eca-938a-b53309992d2e",
     "showTitle": false,
     "title": ""
    }
   },
   "outputs": [],
   "source": [
    "display(constructor_standing_df.filter(\"race_year = 2020\"))"
   ]
  },
  {
   "cell_type": "code",
   "execution_count": null,
   "metadata": {
    "application/vnd.databricks.v1+cell": {
     "cellMetadata": {},
     "inputWidgets": {},
     "nuid": "1049f5e6-6d65-4856-bd74-f43b3f1c9a4c",
     "showTitle": false,
     "title": ""
    }
   },
   "outputs": [],
   "source": [
    "# constructor_standing_df.write.mode(\"overwrite\") \\\n",
    "#     .parquet(f\"{presentation_folder_path}/constructor_standings.parquet\")"
   ]
  },
  {
   "cell_type": "code",
   "execution_count": null,
   "metadata": {
    "application/vnd.databricks.v1+cell": {
     "cellMetadata": {},
     "inputWidgets": {},
     "nuid": "54e9a265-c009-46e8-aad5-e9f8cabe35b9",
     "showTitle": false,
     "title": ""
    }
   },
   "outputs": [],
   "source": [
    "constructor_standing_df.write.mode(\"overwrite\").format(\"parquet\") \\\n",
    "    .saveAsTable(\"f1_presentation.constructor_standings\")"
   ]
  }
 ],
 "metadata": {
  "application/vnd.databricks.v1+notebook": {
   "dashboards": [],
   "language": "python",
   "notebookMetadata": {
    "pythonIndentUnit": 4
   },
   "notebookName": "formula1 - presentation",
   "widgets": {}
  },
  "language_info": {
   "name": "python"
  }
 },
 "nbformat": 4,
 "nbformat_minor": 0
}
